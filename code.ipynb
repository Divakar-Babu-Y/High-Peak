{
 "cells": [
  {
   "cell_type": "code",
   "execution_count": 30,
   "metadata": {},
   "outputs": [
    {
     "name": "stdout",
     "output_type": "stream",
     "text": [
      "Number of employees : 5\n",
      "\n",
      "Scale:4999\n",
      "Fitbit:7980\n",
      "Microwave:9800\n",
      "Alexa:9999\n",
      "Digital:11101\n",
      "\n",
      "And the difference between the chosen goodie with highest price and lowest price is 6102\n"
     ]
    }
   ],
   "source": [
    "a=open(r'sample input.txt')\n",
    "m,n,o,p,j,k=[],[],[],[],[],[]\n",
    "for x in a:\n",
    "    x=x.split()\n",
    "    o.append(x)\n",
    "    m.append(x[1])\n",
    "for x in m:\n",
    "    n.append(int(x))\n",
    "    j.append(int(x))\n",
    "n.sort()\n",
    "b=int(input('Number of employees : '))\n",
    "print()\n",
    "s=(len(n)//2)-(b//2)\n",
    "e=(len(n)//2)+(b//2)\n",
    "for r in range(len(n)):\n",
    "    if b%2==0:\n",
    "        if r>=s and r<e:\n",
    "            p.append(n[r])\n",
    "    else:\n",
    "        if r>=s and r<=e:\n",
    "            p.append(n[r])\n",
    "for l in p:\n",
    "    k.append(j.index(l))\n",
    "for z in k:\n",
    "    print(''.join(o[z]))\n",
    "print('\\nAnd the difference between the chosen goodie with highest price and lowest price is',(p[-1]-p[0]))"
   ]
  }
 ],
 "metadata": {
  "kernelspec": {
   "display_name": "Python 3",
   "language": "python",
   "name": "python3"
  },
  "language_info": {
   "codemirror_mode": {
    "name": "ipython",
    "version": 3
   },
   "file_extension": ".py",
   "mimetype": "text/x-python",
   "name": "python",
   "nbconvert_exporter": "python",
   "pygments_lexer": "ipython3",
   "version": "3.8.5"
  }
 },
 "nbformat": 4,
 "nbformat_minor": 4
}
